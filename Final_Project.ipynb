{
 "cells": [
  {
   "cell_type": "markdown",
   "metadata": {},
   "source": [
    "\n",
    "# Project: Brazilian Hospital Patient Data Analysis\n",
    "\n",
    "<ul>\n",
    "<li><a href=\"#intro\">Introduction</a></li>\n",
    "<li><a href=\"#wrangling\">Data Wrangling</a></li>\n",
    "<li><a href=\"#eda\">Data Analysis</a></li>\n",
    "<li><a href=\"#conclusions\">Conclusion</a></li>\n",
    "</ul>"
   ]
  },
  {
   "cell_type": "markdown",
   "metadata": {},
   "source": [
    "<a id='intro'></a>\n",
    "\n",
    "# ***Introduction***\n",
    "\n",
    "## This dataset provides statistics from many different Brazilian hospital locations and the patients they receive. Most notable statistics include wether a patient attended their scheduled appointment or not as well as the conditions patients suffer from.\n",
    "\n",
    "### Initial review of the data exposes a few questions I would like to answer:\n",
    "        1. How are the patients represented by age?\n",
    "        2. How are no shows represented by gender?\n",
    "        3. Does being part of the welfare program affect appointment attendance?\n",
    "        4. Is no-show probability affected by weeks between scheduling and the actual appointment?\n",
    "       \n",
    "\n"
   ]
  },
  {
   "cell_type": "code",
   "execution_count": 500,
   "metadata": {},
   "outputs": [],
   "source": [
    "import numpy as np\n",
    "import pandas as pd\n",
    "import matplotlib.pyplot as plt\n",
    "import json\n",
    "from datetime import datetime as dt\n",
    "%matplotlib inline"
   ]
  },
  {
   "cell_type": "markdown",
   "metadata": {},
   "source": [
    "<a id='wrangling'></a>\n",
    "# ***Wrangling***"
   ]
  },
  {
   "cell_type": "code",
   "execution_count": 501,
   "metadata": {},
   "outputs": [],
   "source": [
    "appointment_data = pd.read_csv(\"noshowappointments-kagglev2-may-2016.csv\")"
   ]
  },
  {
   "cell_type": "code",
   "execution_count": 502,
   "metadata": {},
   "outputs": [
    {
     "data": {
      "text/html": [
       "<div>\n",
       "<style scoped>\n",
       "    .dataframe tbody tr th:only-of-type {\n",
       "        vertical-align: middle;\n",
       "    }\n",
       "\n",
       "    .dataframe tbody tr th {\n",
       "        vertical-align: top;\n",
       "    }\n",
       "\n",
       "    .dataframe thead th {\n",
       "        text-align: right;\n",
       "    }\n",
       "</style>\n",
       "<table border=\"1\" class=\"dataframe\">\n",
       "  <thead>\n",
       "    <tr style=\"text-align: right;\">\n",
       "      <th></th>\n",
       "      <th>PatientID</th>\n",
       "      <th>AppointmentID</th>\n",
       "      <th>Gender</th>\n",
       "      <th>ScheduledDay</th>\n",
       "      <th>AppointmentDay</th>\n",
       "      <th>Age</th>\n",
       "      <th>Neighbourhood</th>\n",
       "      <th>Welfare</th>\n",
       "      <th>Hypertension</th>\n",
       "      <th>Diabetes</th>\n",
       "      <th>Alcoholism</th>\n",
       "      <th>Handicap</th>\n",
       "      <th>SMS_received</th>\n",
       "      <th>No-show</th>\n",
       "    </tr>\n",
       "  </thead>\n",
       "  <tbody>\n",
       "    <tr>\n",
       "      <td>0</td>\n",
       "      <td>29872499824296</td>\n",
       "      <td>5642903</td>\n",
       "      <td>F</td>\n",
       "      <td>2016-04-29</td>\n",
       "      <td>2016-04-29</td>\n",
       "      <td>62</td>\n",
       "      <td>JARDIM DA PENHA</td>\n",
       "      <td>0</td>\n",
       "      <td>1</td>\n",
       "      <td>0</td>\n",
       "      <td>0</td>\n",
       "      <td>0</td>\n",
       "      <td>0</td>\n",
       "      <td>0</td>\n",
       "    </tr>\n",
       "    <tr>\n",
       "      <td>1</td>\n",
       "      <td>558997776694438</td>\n",
       "      <td>5642503</td>\n",
       "      <td>M</td>\n",
       "      <td>2016-04-29</td>\n",
       "      <td>2016-04-29</td>\n",
       "      <td>56</td>\n",
       "      <td>JARDIM DA PENHA</td>\n",
       "      <td>0</td>\n",
       "      <td>0</td>\n",
       "      <td>0</td>\n",
       "      <td>0</td>\n",
       "      <td>0</td>\n",
       "      <td>0</td>\n",
       "      <td>0</td>\n",
       "    </tr>\n",
       "    <tr>\n",
       "      <td>2</td>\n",
       "      <td>4262962299951</td>\n",
       "      <td>5642549</td>\n",
       "      <td>F</td>\n",
       "      <td>2016-04-29</td>\n",
       "      <td>2016-04-29</td>\n",
       "      <td>62</td>\n",
       "      <td>MATA DA PRAIA</td>\n",
       "      <td>0</td>\n",
       "      <td>0</td>\n",
       "      <td>0</td>\n",
       "      <td>0</td>\n",
       "      <td>0</td>\n",
       "      <td>0</td>\n",
       "      <td>0</td>\n",
       "    </tr>\n",
       "    <tr>\n",
       "      <td>3</td>\n",
       "      <td>867951213174</td>\n",
       "      <td>5642828</td>\n",
       "      <td>F</td>\n",
       "      <td>2016-04-29</td>\n",
       "      <td>2016-04-29</td>\n",
       "      <td>8</td>\n",
       "      <td>PONTAL DE CAMBURI</td>\n",
       "      <td>0</td>\n",
       "      <td>0</td>\n",
       "      <td>0</td>\n",
       "      <td>0</td>\n",
       "      <td>0</td>\n",
       "      <td>0</td>\n",
       "      <td>0</td>\n",
       "    </tr>\n",
       "    <tr>\n",
       "      <td>4</td>\n",
       "      <td>8841186448183</td>\n",
       "      <td>5642494</td>\n",
       "      <td>F</td>\n",
       "      <td>2016-04-29</td>\n",
       "      <td>2016-04-29</td>\n",
       "      <td>56</td>\n",
       "      <td>JARDIM DA PENHA</td>\n",
       "      <td>0</td>\n",
       "      <td>1</td>\n",
       "      <td>1</td>\n",
       "      <td>0</td>\n",
       "      <td>0</td>\n",
       "      <td>0</td>\n",
       "      <td>0</td>\n",
       "    </tr>\n",
       "  </tbody>\n",
       "</table>\n",
       "</div>"
      ],
      "text/plain": [
       "         PatientID  AppointmentID Gender ScheduledDay AppointmentDay  Age  \\\n",
       "0   29872499824296        5642903      F   2016-04-29     2016-04-29   62   \n",
       "1  558997776694438        5642503      M   2016-04-29     2016-04-29   56   \n",
       "2    4262962299951        5642549      F   2016-04-29     2016-04-29   62   \n",
       "3     867951213174        5642828      F   2016-04-29     2016-04-29    8   \n",
       "4    8841186448183        5642494      F   2016-04-29     2016-04-29   56   \n",
       "\n",
       "       Neighbourhood  Welfare  Hypertension  Diabetes  Alcoholism  Handicap  \\\n",
       "0    JARDIM DA PENHA        0             1         0           0         0   \n",
       "1    JARDIM DA PENHA        0             0         0           0         0   \n",
       "2      MATA DA PRAIA        0             0         0           0         0   \n",
       "3  PONTAL DE CAMBURI        0             0         0           0         0   \n",
       "4    JARDIM DA PENHA        0             1         1           0         0   \n",
       "\n",
       "   SMS_received  No-show  \n",
       "0             0        0  \n",
       "1             0        0  \n",
       "2             0        0  \n",
       "3             0        0  \n",
       "4             0        0  "
      ]
     },
     "execution_count": 502,
     "metadata": {},
     "output_type": "execute_result"
    }
   ],
   "source": [
    "# Changing some headers and date formats to make more sense of the data\n",
    "\n",
    "def header_fix(data):\n",
    "\n",
    "    # Renaming some poorly spelled columns\n",
    "    data.rename(columns={'Hipertension' : 'Hypertension',\n",
    "                                 'PatientId' : 'PatientID',              \n",
    "                                 'Scholarship' : 'Welfare',\n",
    "                                 'Handcap' : 'Handicap'}, inplace=True)\n",
    "    \n",
    "    # Changing the dates to readable formats, also changing the No-show columns to reflect the format of the condition data   \n",
    "    appointment_data['AppointmentDay'] = pd.to_datetime(appointment_data['AppointmentDay']).dt.date\n",
    "    appointment_data['ScheduledDay'] = pd.to_datetime(appointment_data['ScheduledDay']).dt.date\n",
    "    appointment_data.replace({'No-show': 'No' }, value='0', inplace=True)\n",
    "    appointment_data.replace({'No-show': 'Yes' }, value='1', inplace=True)\n",
    "    appointment_data['PatientID'] = appointment_data['PatientID'].astype('int64')\n",
    "    appointment_data['No-show'] = appointment_data['No-show'].astype('int64')\n",
    "    \n",
    "    return data\n",
    "\n",
    "header_fix(appointment_data).head()"
   ]
  },
  {
   "cell_type": "code",
   "execution_count": 503,
   "metadata": {},
   "outputs": [],
   "source": [
    "# Indexing on AppointmentID to easily drop bad rows \n",
    "appointment_data.set_index(\"AppointmentID\", inplace=True)"
   ]
  },
  {
   "cell_type": "code",
   "execution_count": 504,
   "metadata": {},
   "outputs": [
    {
     "data": {
      "text/plain": [
       "count                     110527\n",
       "mean     10 days 04:24:31.828602\n",
       "std      15 days 06:07:11.673762\n",
       "min            -6 days +00:00:00\n",
       "25%              0 days 00:00:00\n",
       "50%              4 days 00:00:00\n",
       "75%             15 days 00:00:00\n",
       "max            179 days 00:00:00\n",
       "dtype: object"
      ]
     },
     "execution_count": 504,
     "metadata": {},
     "output_type": "execute_result"
    }
   ],
   "source": [
    "# Finding anamolies within the date section, the difference here can be 0 but not negative\n",
    "(appointment_data['AppointmentDay'] - appointment_data['ScheduledDay']).describe()"
   ]
  },
  {
   "cell_type": "code",
   "execution_count": 505,
   "metadata": {},
   "outputs": [
    {
     "data": {
      "text/html": [
       "<div>\n",
       "<style scoped>\n",
       "    .dataframe tbody tr th:only-of-type {\n",
       "        vertical-align: middle;\n",
       "    }\n",
       "\n",
       "    .dataframe tbody tr th {\n",
       "        vertical-align: top;\n",
       "    }\n",
       "\n",
       "    .dataframe thead th {\n",
       "        text-align: right;\n",
       "    }\n",
       "</style>\n",
       "<table border=\"1\" class=\"dataframe\">\n",
       "  <thead>\n",
       "    <tr style=\"text-align: right;\">\n",
       "      <th></th>\n",
       "      <th>PatientID</th>\n",
       "      <th>Gender</th>\n",
       "      <th>ScheduledDay</th>\n",
       "      <th>AppointmentDay</th>\n",
       "      <th>Age</th>\n",
       "      <th>Neighbourhood</th>\n",
       "      <th>Welfare</th>\n",
       "      <th>Hypertension</th>\n",
       "      <th>Diabetes</th>\n",
       "      <th>Alcoholism</th>\n",
       "      <th>Handicap</th>\n",
       "      <th>SMS_received</th>\n",
       "      <th>No-show</th>\n",
       "    </tr>\n",
       "    <tr>\n",
       "      <th>AppointmentID</th>\n",
       "      <th></th>\n",
       "      <th></th>\n",
       "      <th></th>\n",
       "      <th></th>\n",
       "      <th></th>\n",
       "      <th></th>\n",
       "      <th></th>\n",
       "      <th></th>\n",
       "      <th></th>\n",
       "      <th></th>\n",
       "      <th></th>\n",
       "      <th></th>\n",
       "      <th></th>\n",
       "    </tr>\n",
       "  </thead>\n",
       "  <tbody>\n",
       "    <tr>\n",
       "      <td>5686628</td>\n",
       "      <td>998231581612122</td>\n",
       "      <td>F</td>\n",
       "      <td>2016-05-11</td>\n",
       "      <td>2016-05-05</td>\n",
       "      <td>81</td>\n",
       "      <td>SANTO ANTÔNIO</td>\n",
       "      <td>0</td>\n",
       "      <td>0</td>\n",
       "      <td>0</td>\n",
       "      <td>0</td>\n",
       "      <td>0</td>\n",
       "      <td>0</td>\n",
       "      <td>1</td>\n",
       "    </tr>\n",
       "  </tbody>\n",
       "</table>\n",
       "</div>"
      ],
      "text/plain": [
       "                     PatientID Gender ScheduledDay AppointmentDay  Age  \\\n",
       "AppointmentID                                                            \n",
       "5686628        998231581612122      F   2016-05-11     2016-05-05   81   \n",
       "\n",
       "               Neighbourhood  Welfare  Hypertension  Diabetes  Alcoholism  \\\n",
       "AppointmentID                                                               \n",
       "5686628        SANTO ANTÔNIO        0             0         0           0   \n",
       "\n",
       "               Handicap  SMS_received  No-show  \n",
       "AppointmentID                                   \n",
       "5686628               0             0        1  "
      ]
     },
     "execution_count": 505,
     "metadata": {},
     "output_type": "execute_result"
    }
   ],
   "source": [
    "# Locating the bad row\n",
    "appointment_data.loc[(appointment_data['AppointmentDay'] - appointment_data['ScheduledDay']) == '-6 days +00:00:00']"
   ]
  },
  {
   "cell_type": "code",
   "execution_count": 506,
   "metadata": {},
   "outputs": [],
   "source": [
    "# Dropping the bad row, there were actually 5 for dates\n",
    "appointment_data.drop(index=[5686628, 5679978, 5715660, 5664962, 5655637], inplace=True)"
   ]
  },
  {
   "cell_type": "code",
   "execution_count": 507,
   "metadata": {},
   "outputs": [
    {
     "data": {
      "text/plain": [
       "count                     110522\n",
       "mean     10 days 04:25:19.451330\n",
       "std      15 days 06:07:21.956876\n",
       "min              0 days 00:00:00\n",
       "25%              0 days 00:00:00\n",
       "50%              4 days 00:00:00\n",
       "75%             15 days 00:00:00\n",
       "max            179 days 00:00:00\n",
       "dtype: object"
      ]
     },
     "execution_count": 507,
     "metadata": {},
     "output_type": "execute_result"
    }
   ],
   "source": [
    "# Verifying dates are fixed\n",
    "(appointment_data['AppointmentDay'] - appointment_data['ScheduledDay']).describe()"
   ]
  },
  {
   "cell_type": "code",
   "execution_count": 508,
   "metadata": {},
   "outputs": [
    {
     "data": {
      "text/plain": [
       "count    110522.000000\n",
       "mean         37.089041\n",
       "std          23.110064\n",
       "min          -1.000000\n",
       "25%          18.000000\n",
       "50%          37.000000\n",
       "75%          55.000000\n",
       "max         115.000000\n",
       "Name: Age, dtype: float64"
      ]
     },
     "execution_count": 508,
     "metadata": {},
     "output_type": "execute_result"
    }
   ],
   "source": [
    "# Checking problems in the Age column, I've never met someone who's -1 year old\n",
    "appointment_data['Age'].describe()"
   ]
  },
  {
   "cell_type": "code",
   "execution_count": 509,
   "metadata": {},
   "outputs": [
    {
     "data": {
      "text/html": [
       "<div>\n",
       "<style scoped>\n",
       "    .dataframe tbody tr th:only-of-type {\n",
       "        vertical-align: middle;\n",
       "    }\n",
       "\n",
       "    .dataframe tbody tr th {\n",
       "        vertical-align: top;\n",
       "    }\n",
       "\n",
       "    .dataframe thead th {\n",
       "        text-align: right;\n",
       "    }\n",
       "</style>\n",
       "<table border=\"1\" class=\"dataframe\">\n",
       "  <thead>\n",
       "    <tr style=\"text-align: right;\">\n",
       "      <th></th>\n",
       "      <th>PatientID</th>\n",
       "      <th>Gender</th>\n",
       "      <th>ScheduledDay</th>\n",
       "      <th>AppointmentDay</th>\n",
       "      <th>Age</th>\n",
       "      <th>Neighbourhood</th>\n",
       "      <th>Welfare</th>\n",
       "      <th>Hypertension</th>\n",
       "      <th>Diabetes</th>\n",
       "      <th>Alcoholism</th>\n",
       "      <th>Handicap</th>\n",
       "      <th>SMS_received</th>\n",
       "      <th>No-show</th>\n",
       "    </tr>\n",
       "    <tr>\n",
       "      <th>AppointmentID</th>\n",
       "      <th></th>\n",
       "      <th></th>\n",
       "      <th></th>\n",
       "      <th></th>\n",
       "      <th></th>\n",
       "      <th></th>\n",
       "      <th></th>\n",
       "      <th></th>\n",
       "      <th></th>\n",
       "      <th></th>\n",
       "      <th></th>\n",
       "      <th></th>\n",
       "      <th></th>\n",
       "    </tr>\n",
       "  </thead>\n",
       "  <tbody>\n",
       "    <tr>\n",
       "      <td>5775010</td>\n",
       "      <td>465943158731293</td>\n",
       "      <td>F</td>\n",
       "      <td>2016-06-06</td>\n",
       "      <td>2016-06-06</td>\n",
       "      <td>-1</td>\n",
       "      <td>ROMÃO</td>\n",
       "      <td>0</td>\n",
       "      <td>0</td>\n",
       "      <td>0</td>\n",
       "      <td>0</td>\n",
       "      <td>0</td>\n",
       "      <td>0</td>\n",
       "      <td>0</td>\n",
       "    </tr>\n",
       "  </tbody>\n",
       "</table>\n",
       "</div>"
      ],
      "text/plain": [
       "                     PatientID Gender ScheduledDay AppointmentDay  Age  \\\n",
       "AppointmentID                                                            \n",
       "5775010        465943158731293      F   2016-06-06     2016-06-06   -1   \n",
       "\n",
       "              Neighbourhood  Welfare  Hypertension  Diabetes  Alcoholism  \\\n",
       "AppointmentID                                                              \n",
       "5775010               ROMÃO        0             0         0           0   \n",
       "\n",
       "               Handicap  SMS_received  No-show  \n",
       "AppointmentID                                   \n",
       "5775010               0             0        0  "
      ]
     },
     "execution_count": 509,
     "metadata": {},
     "output_type": "execute_result"
    }
   ],
   "source": [
    "# Locating problem rows\n",
    "appointment_data.loc[appointment_data['Age'] == -1]"
   ]
  },
  {
   "cell_type": "code",
   "execution_count": 510,
   "metadata": {},
   "outputs": [],
   "source": [
    "# Removing problem row\n",
    "appointment_data.drop(index=5775010, inplace=True)"
   ]
  },
  {
   "cell_type": "code",
   "execution_count": 511,
   "metadata": {},
   "outputs": [
    {
     "data": {
      "text/plain": [
       "count    110521.000000\n",
       "mean         37.089386\n",
       "std          23.109885\n",
       "min           0.000000\n",
       "25%          18.000000\n",
       "50%          37.000000\n",
       "75%          55.000000\n",
       "max         115.000000\n",
       "Name: Age, dtype: float64"
      ]
     },
     "execution_count": 511,
     "metadata": {},
     "output_type": "execute_result"
    }
   ],
   "source": [
    "# Verifying ages are fixed\n",
    "appointment_data['Age'].describe()"
   ]
  },
  {
   "cell_type": "code",
   "execution_count": 512,
   "metadata": {},
   "outputs": [
    {
     "data": {
      "text/plain": [
       "PatientID          int64\n",
       "Gender            object\n",
       "ScheduledDay      object\n",
       "AppointmentDay    object\n",
       "Age                int64\n",
       "Neighbourhood     object\n",
       "Welfare            int64\n",
       "Hypertension       int64\n",
       "Diabetes           int64\n",
       "Alcoholism         int64\n",
       "Handicap           int64\n",
       "SMS_received       int64\n",
       "No-show            int64\n",
       "dtype: object"
      ]
     },
     "execution_count": 512,
     "metadata": {},
     "output_type": "execute_result"
    }
   ],
   "source": [
    "# Checking the data formats of the columns\n",
    "appointment_data.dtypes "
   ]
  },
  {
   "cell_type": "markdown",
   "metadata": {},
   "source": [
    "<a id='eda'></a>\n",
    "\n",
    "# ***Data Analysis***\n",
    "\n",
    "### Beginning here I will present each question and explore the data to find the answers."
   ]
  },
  {
   "cell_type": "code",
   "execution_count": 513,
   "metadata": {},
   "outputs": [
    {
     "name": "stdout",
     "output_type": "stream",
     "text": [
      "Totaled statistics regarding each illness:\n",
      "Hypertension: 21801\n",
      "Diabetes: 7943\n",
      "Alcoholism: 3360\n",
      "Handicap: 2457\n"
     ]
    }
   ],
   "source": [
    "# Showing some initial totals I thought might be useful later on.\n",
    "\n",
    "hypertension = appointment_data['Hypertension'].sum()\n",
    "diabetes = appointment_data['Diabetes'].sum()\n",
    "alcoholism = appointment_data['Alcoholism'].sum()\n",
    "handicap = appointment_data['Handicap'].sum()\n",
    "\n",
    "print(\"Totaled statistics regarding each illness:\")\n",
    "print(\"Hypertension: {}\".format(hypertension))\n",
    "print(\"Diabetes: {}\".format(diabetes))\n",
    "print(\"Alcoholism: {}\".format(alcoholism))\n",
    "print(\"Handicap: {}\".format(handicap))"
   ]
  },
  {
   "cell_type": "markdown",
   "metadata": {},
   "source": [
    "## Question 1: How are the patients represented by age?"
   ]
  },
  {
   "cell_type": "code",
   "execution_count": 514,
   "metadata": {},
   "outputs": [
    {
     "data": {
      "text/plain": [
       "count    110521.000000\n",
       "mean         37.089386\n",
       "std          23.109885\n",
       "min           0.000000\n",
       "25%          18.000000\n",
       "50%          37.000000\n",
       "75%          55.000000\n",
       "max         115.000000\n",
       "Name: Age, dtype: float64"
      ]
     },
     "execution_count": 514,
     "metadata": {},
     "output_type": "execute_result"
    }
   ],
   "source": [
    "# Quick age describe to get an idea\n",
    "appointment_data['Age'].describe()"
   ]
  },
  {
   "cell_type": "code",
   "execution_count": 515,
   "metadata": {},
   "outputs": [
    {
     "data": {
      "text/plain": [
       "Text(0.5, 1.0, 'Variation of Age in Patients')"
      ]
     },
     "execution_count": 515,
     "metadata": {},
     "output_type": "execute_result"
    },
    {
     "data": {
      "image/png": "[encoded data removed]",
      "text/plain": [
       "<Figure size 432x288 with 1 Axes>"
      ]
     },
     "metadata": {
      "needs_background": "light"
     },
     "output_type": "display_data"
    }
   ],
   "source": [
    "appointment_data['Age'].hist(bins=20)\n",
    "plt.ylabel('Number of Patients')\n",
    "plt.xlabel('Age (In Years)')\n",
    "plt.title(\"Variation of Age in Patients\")"
   ]
  },
  {
   "cell_type": "markdown",
   "metadata": {},
   "source": [
    "Histogram of the patient's ages, ranging from 0 to 115!! As you can see the vast majority of our patients are in their 60's or earlier. "
   ]
  },
  {
   "cell_type": "markdown",
   "metadata": {},
   "source": [
    "## Question 2: How is appointment attendance represented by gender?"
   ]
  },
  {
   "cell_type": "code",
   "execution_count": 516,
   "metadata": {},
   "outputs": [
    {
     "name": "stdout",
     "output_type": "stream",
     "text": [
      "Total Male No-Shows: 7723\n",
      "Total Female No-Shows: 14591\n",
      "Total Male Shows: 30962\n",
      "Total Female Shows: 57245\n"
     ]
    }
   ],
   "source": [
    "# Creating a dataframe with only those who did not show for their appointment\n",
    "no_show_df = appointment_data[appointment_data['No-show'] == 1]\n",
    "\n",
    "# Creating a dataframe with those who did show for their appointment\n",
    "show_df = appointment_data[appointment_data['No-show'] == 0]\n",
    "\n",
    "# Calculating total no-shows for each gender\n",
    "male_no_shows = no_show_df[no_show_df['Gender'] == 'M']\n",
    "female_no_shows = no_show_df[no_show_df['Gender'] == 'F']\n",
    "\n",
    "print(\"Total Male No-Shows: {}\".format(male_no_shows['PatientID'].count()))\n",
    "print(\"Total Female No-Shows: {}\".format(female_no_shows['PatientID'].count()))\n",
    "\n",
    "male_shows = show_df[show_df['Gender'] == 'M']\n",
    "female_shows = show_df[show_df['Gender'] == 'F']\n",
    "\n",
    "print(\"Total Male Shows: {}\".format(male_shows['PatientID'].count()))\n",
    "print(\"Total Female Shows: {}\".format(female_shows['PatientID'].count()))"
   ]
  },
  {
   "cell_type": "code",
   "execution_count": 517,
   "metadata": {},
   "outputs": [
    {
     "data": {
      "text/plain": [
       "<matplotlib.legend.Legend at 0x1d3da571d08>"
      ]
     },
     "execution_count": 517,
     "metadata": {},
     "output_type": "execute_result"
    },
    {
     "data": {
      "image/png": "[encoded data removed]",
      "text/plain": [
       "<Figure size 432x288 with 1 Axes>"
      ]
     },
     "metadata": {
      "needs_background": "light"
     },
     "output_type": "display_data"
    }
   ],
   "source": [
    "x1 = male_no_shows['PatientID'].count()\n",
    "x2 = female_no_shows['PatientID'].count()\n",
    "x3 = male_shows['PatientID'].count()\n",
    "x4 = female_shows['PatientID'].count()\n",
    "\n",
    "objects2 = ('Male', 'Female')\n",
    "show_figures = [x3, x4]\n",
    "no_show_figures = [x1, x2]\n",
    "\n",
    "plt.title('Male/Female Appointment Attendance')\n",
    "plt.ylabel('Number of Patients')\n",
    "p1 = plt.bar(objects2, show_figures)\n",
    "p2 = plt.bar(objects2, no_show_figures, bottom=show_figures)\n",
    "plt.legend((p1[0], p2[0]), ('Show', 'No Show'))"
   ]
  },
  {
   "cell_type": "markdown",
   "metadata": {},
   "source": [
    "Male and female appointment attendance. This graph shows that both genders miss appointments at a comparible rate."
   ]
  },
  {
   "cell_type": "code",
   "execution_count": 518,
   "metadata": {},
   "outputs": [
    {
     "name": "stdout",
     "output_type": "stream",
     "text": [
      "Percentage of total patients who missed their appointment: 25.30%\n",
      "Percentage of males who missed their appointment: 24.94%\n",
      "Percentage of females who missed their appointment: 25.49%\n"
     ]
    }
   ],
   "source": [
    "print(\"Percentage of total patients who missed their appointment: {:.2%}\".format((x1 + x2) / (x3 + x4)))\n",
    "print(\"Percentage of males who missed their appointment: {:.2%}\".format(x1 / x3))\n",
    "print(\"Percentage of females who missed their appointment: {:.2%}\".format(x2 / x4))"
   ]
  },
  {
   "cell_type": "markdown",
   "metadata": {},
   "source": [
    "## Question 3: Does being part of the welfare program affect appointment attendance?"
   ]
  },
  {
   "cell_type": "code",
   "execution_count": 519,
   "metadata": {},
   "outputs": [
    {
     "name": "stdout",
     "output_type": "stream",
     "text": [
      "30.62 is the average age of a welfare participant, for non-welfare participants the average age is 37.79\n"
     ]
    }
   ],
   "source": [
    "# Fun fact about walfare/non-welfare patients\n",
    "average_welfare_age = welfare_df['Age'].mean()\n",
    "average_non_welfare = non_welfare_df['Age'].mean()\n",
    "\n",
    "print(\"{} is the average age of a welfare participant, for non-welfare participants the average age is {}\"\n",
    "                          .format(round(average_welfare_age, 2), round(average_non_welfare, 2)))"
   ]
  },
  {
   "cell_type": "code",
   "execution_count": 520,
   "metadata": {},
   "outputs": [
    {
     "name": "stdout",
     "output_type": "stream",
     "text": [
      "Welfare participants: 10861\n",
      "Not on Welfare: 99660\n"
     ]
    }
   ],
   "source": [
    "# Calculating the total number of pateints on/off welfare\n",
    "welfare_df = appointment_data[appointment_data['Welfare'] == 1]\n",
    "non_welfare_df = appointment_data[appointment_data['Welfare'] == 0]\n",
    "\n",
    "print(\"Welfare participants: {}\".format(welfare_df['PatientID'].count()))\n",
    "print(\"Not on Welfare: {}\".format(non_welfare_df['PatientID'].count()))"
   ]
  },
  {
   "cell_type": "code",
   "execution_count": 521,
   "metadata": {},
   "outputs": [
    {
     "data": {
      "text/plain": [
       "<matplotlib.legend.Legend at 0x1d3da5e1d88>"
      ]
     },
     "execution_count": 521,
     "metadata": {},
     "output_type": "execute_result"
    },
    {
     "data": {
      "image/png": "[encoded data removed]",
      "text/plain": [
       "<Figure size 432x288 with 1 Axes>"
      ]
     },
     "metadata": {
      "needs_background": "light"
     },
     "output_type": "display_data"
    }
   ],
   "source": [
    "y1 = welfare_df['No-show'].sum()            # Welfare no-shows\n",
    "y2 = welfare_df['No-show'].count() - y1     # Welfare shows\n",
    "y3 = non_welfare_df['No-show'].sum()        # Non-welfare no-shows\n",
    "y4 = non_welfare_df['No-show'].count() - y3 # Non-welfare shows\n",
    "\n",
    "labels = ['Welfare', 'Non-Welfare']\n",
    "show_figures = [y2, y4]\n",
    "no_show_figures = [y1, y3]\n",
    "\n",
    "x = np.arange(len(labels))                  # the label locations\n",
    "width = 0.35                                # the width of the bars\n",
    "\n",
    "fig, ax = plt.subplots()\n",
    "rects1 = ax.bar(x - width/2, show_figures, width, label='Shows')\n",
    "rects2 = ax.bar(x + width/2, no_show_figures, width, label='No-Shows')\n",
    "\n",
    "ax.set_title('Welfare/Non-Welfare Appointment Attendance')\n",
    "ax.set_ylabel('Number of Patients')\n",
    "ax.set_xticks(x)\n",
    "ax.set_xticklabels(labels)\n",
    "ax.legend()"
   ]
  },
  {
   "cell_type": "markdown",
   "metadata": {},
   "source": [
    "This graph shows appointment attendance between those on/off welfare. Only 9.83% of patients participate in the welfare program, explaining the size difference in the graph. However the show to no-show ratios seem to match up relativly close to one another."
   ]
  },
  {
   "cell_type": "code",
   "execution_count": 522,
   "metadata": {},
   "outputs": [
    {
     "name": "stdout",
     "output_type": "stream",
     "text": [
      "Percentage of welfare patients who missed appointments: 23.74%\n",
      "Percentage of non-welfare patients who missed appointments: 19.80%\n"
     ]
    }
   ],
   "source": [
    "# Calculating percentage of missed appointments within each group\n",
    "welfare_missed_perc = y1 / welfare_df['PatientID'].count()\n",
    "non_welfare_missed_perc = y3 / non_welfare_df['PatientID'].count()\n",
    "\n",
    "print(\"Percentage of welfare patients who missed appointments: \"+\"{:.2%}\".format(welfare_missed_perc))\n",
    "print(\"Percentage of non-welfare patients who missed appointments: \"+\"{:.2%}\".format(non_welfare_missed_perc))"
   ]
  },
  {
   "cell_type": "markdown",
   "metadata": {},
   "source": [
    "## Question 4: Is no-show probability affected by weeks between scheduling and the actual appointment?"
   ]
  },
  {
   "cell_type": "code",
   "execution_count": 523,
   "metadata": {},
   "outputs": [
    {
     "data": {
      "text/plain": [
       "<matplotlib.legend.Legend at 0x1d3db471848>"
      ]
     },
     "execution_count": 523,
     "metadata": {},
     "output_type": "execute_result"
    },
    {
     "data": {
      "image/png": "[encoded data removed]",
      "text/plain": [
       "<Figure size 432x288 with 1 Axes>"
      ]
     },
     "metadata": {
      "needs_background": "light"
     },
     "output_type": "display_data"
    }
   ],
   "source": [
    "# I've seperated time into one week spans in order to visualize easier\n",
    "weeks_between_shows = ((show_df['AppointmentDay'] - show_df['ScheduledDay']).dt.days) % 7\n",
    "weeks_between_noshows = ((no_show_df['AppointmentDay'] - no_show_df['ScheduledDay']).dt.days) % 7\n",
    "\n",
    "plt.title('Time Between Scheduled and Appointment Date')\n",
    "plt.ylabel('Number of Patients')\n",
    "plt.xlabel('Number of Weeks')\n",
    "labels2 = [\"Show\", \"No-Show\"]\n",
    "\n",
    "\n",
    "plt.hist(weeks_between_shows, bins=7)\n",
    "plt.hist(weeks_between_noshows, bins=7)\n",
    "plt.legend(labels2)\n"
   ]
  },
  {
   "cell_type": "markdown",
   "metadata": {},
   "source": [
    "This graph shows the number of weeks in between the time a patient made an appointment and the actual date of the appointment. Only about 1 in 4 patients miss their appointments which explains the size difference, and while the data shapes nearly mirror each other we do have a rather large discrepency in the first bin."
   ]
  },
  {
   "cell_type": "markdown",
   "metadata": {},
   "source": [
    "<a id='conclusions'></a>\n",
    "\n",
    "# ***Conclusion***"
   ]
  },
  {
   "cell_type": "markdown",
   "metadata": {},
   "source": [
    "### Question 1: How are the patients represented by age?\n",
    "\n",
    "   * Here we visualize the age of our patients:\n",
    "         -16.96% are 10 or under\n",
    "         -41.28% are 30 or under\n",
    "         -67.95% are 50 or under\n",
    "        \n",
    "\n",
    "### Question 2: How is appointment attendance represented by gender?\n",
    "\n",
    "   * Gender does not seem to be a factor when predicting if a patient will attend their appointment or not. Male and female patients tend to miss their appointments at a similar percentage at 24.95% and 25.49% respectfully.\n",
    "   * Female patients outnumber male patients in total appointments at nearly a 2:1 ratio, however this does not effect the rate at which female patients attend their appontments. \n",
    "   \n",
    "       \n",
    "### Question 3: Does being part of the welfare program affect appointment attendance?\n",
    "\n",
    "   * While patients on welfare do miss appointments at a slightly higher rate (23.74%) than those not on welfare (19.81%), there isn't enough evidence to suggest causation between welfare and missed appointments.\n",
    "    \n",
    "   ##### Limitation:\n",
    "   * Uninsured patients, were there any? It's possible they were included but we will never know.\n",
    "         \n",
    "    \n",
    "### Question 4: Is no-show probability affected by weeks between scheduling and the actual appointment?\n",
    "\n",
    "   * Time between when a patient makes his/her appointment and the actual date of the appointment line up relitivly well between show and no show appointments, although there is one large difference you may be able to see.\n",
    "   * According to these findings an appointment made within one week of the scheduled date may actually be a predictor for the patient attending the appointment, contrary to my initial hypothesis. \n",
    "    \n",
    "   ##### Limitation:\n",
    "   * Data was captured only over the course of a couple months, if we were to analyze a full years worth of data or more the findings could be much more accurate. \n",
    "   * This limitation could potentially affect all of the findings."
   ]
  }
 ],
 "metadata": {
  "kernelspec": {
   "display_name": "Python 3",
   "language": "python",
   "name": "python3"
  },
  "language_info": {
   "codemirror_mode": {
    "name": "ipython",
    "version": 3
   },
   "file_extension": ".py",
   "mimetype": "text/x-python",
   "name": "python",
   "nbconvert_exporter": "python",
   "pygments_lexer": "ipython3",
   "version": "3.7.4"
  }
 },
 "nbformat": 4,
 "nbformat_minor": 2
}
